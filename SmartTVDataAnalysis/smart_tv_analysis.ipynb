{
 "cells": [
  {
   "cell_type": "markdown",
   "metadata": {},
   "source": [
    "# Smart TV Privacy Analysis\n",
    "\n",
    "In this assignment, we will analyze real traces collected from Roku TV and Amazon FireTV to learn more about the behavior of TV channels and whether there's any privacy concern."
   ]
  },
  {
   "cell_type": "code",
   "execution_count": 1,
   "metadata": {},
   "outputs": [],
   "source": [
    "import matplotlib.pyplot as plt\n",
    "import pandas as pd"
   ]
  },
  {
   "cell_type": "markdown",
   "metadata": {},
   "source": [
    "First, let's read in the data. Given the large size, all data files are stored as \"pickles\" (https://docs.python.org/3/library/pickle.html) to save space. \n",
    "\n",
    "We have four files here: two files for Roku and two files for Amazon FireTV, where \"vanilla\" corresponds to the default configuration, and \"limitad\" corresponds to having the \"limit ad tracking\" option turned on. \n",
    "\n",
    "All four files contain HTTP response traffic."
   ]
  },
  {
   "cell_type": "code",
   "execution_count": 2,
   "metadata": {},
   "outputs": [],
   "source": [
    "# Roku data\n",
    "roku_limitad = pd.read_pickle(\"roku-data-limitad_http_resp.pickle\")\n",
    "roku_vanilla = pd.read_pickle(\"roku-data_http_resp.pickle\")\n",
    "\n",
    "# Amazon data\n",
    "amzn_limitad = pd.read_pickle(\"amazon-data-limitad_http_resp.pickle\")\n",
    "amzn_vanilla = pd.read_pickle(\"amazon-data_http_resp.pickle\")"
   ]
  },
  {
   "cell_type": "markdown",
   "metadata": {},
   "source": [
    "Let's see how many records we have in each file."
   ]
  },
  {
   "cell_type": "code",
   "execution_count": 3,
   "metadata": {},
   "outputs": [
    {
     "name": "stdout",
     "output_type": "stream",
     "text": [
      "Roku: 4279 3984\n",
      "Amazon: 8695 8124\n"
     ]
    }
   ],
   "source": [
    "# Roku: number of records\n",
    "print(\"Roku:\", len(roku_vanilla), len(roku_limitad))\n",
    "\n",
    "# Amazon: number of records\n",
    "print(\"Amazon:\", len(amzn_vanilla), len(amzn_limitad))"
   ]
  },
  {
   "cell_type": "markdown",
   "metadata": {},
   "source": [
    "Now, let's take a closer look at the data. The pickle file is read into a \"dataframe\" (https://pandas.pydata.org/pandas-docs/stable/reference/api/pandas.DataFrame.html). You can think of it as a SQL table or spreasheet with columns and rows.\n",
    "\n",
    "For example, let's check out the first five rows in \"roku_vanilla\"."
   ]
  },
  {
   "cell_type": "code",
   "execution_count": 4,
   "metadata": {},
   "outputs": [
    {
     "data": {
      "text/html": [
       "<div>\n",
       "<style scoped>\n",
       "    .dataframe tbody tr th:only-of-type {\n",
       "        vertical-align: middle;\n",
       "    }\n",
       "\n",
       "    .dataframe tbody tr th {\n",
       "        vertical-align: top;\n",
       "    }\n",
       "\n",
       "    .dataframe thead th {\n",
       "        text-align: right;\n",
       "    }\n",
       "</style>\n",
       "<table border=\"1\" class=\"dataframe\">\n",
       "  <thead>\n",
       "    <tr style=\"text-align: right;\">\n",
       "      <th></th>\n",
       "      <th>channel_id</th>\n",
       "      <th>data</th>\n",
       "      <th>time</th>\n",
       "      <th>body</th>\n",
       "      <th>location</th>\n",
       "      <th>code</th>\n",
       "      <th>set_cookie</th>\n",
       "      <th>user_agent</th>\n",
       "      <th>ip_src</th>\n",
       "      <th>tcp_srcport</th>\n",
       "      <th>tcp_stream</th>\n",
       "      <th>http2</th>\n",
       "      <th>host_by_dns</th>\n",
       "      <th>domain_by_dns</th>\n",
       "      <th>channel_name</th>\n",
       "      <th>rank</th>\n",
       "      <th>category</th>\n",
       "      <th>status</th>\n",
       "      <th>playback</th>\n",
       "    </tr>\n",
       "  </thead>\n",
       "  <tbody>\n",
       "    <tr>\n",
       "      <th>0</th>\n",
       "      <td>13</td>\n",
       "      <td>01d27b2269223a2263613036333836342d333432612d34...</td>\n",
       "      <td>1556908916.319217000</td>\n",
       "      <td></td>\n",
       "      <td></td>\n",
       "      <td></td>\n",
       "      <td></td>\n",
       "      <td></td>\n",
       "      <td>54.175.224.52</td>\n",
       "      <td>2350</td>\n",
       "      <td>17</td>\n",
       "      <td>False</td>\n",
       "      <td></td>\n",
       "      <td></td>\n",
       "      <td>Prime Video</td>\n",
       "      <td>3</td>\n",
       "      <td>Movies &amp; TV</td>\n",
       "      <td>TERMINATED</td>\n",
       "      <td>False</td>\n",
       "    </tr>\n",
       "    <tr>\n",
       "      <th>1</th>\n",
       "      <td>13</td>\n",
       "      <td></td>\n",
       "      <td>1556908947.886910000</td>\n",
       "      <td>ï¿½PNG\\r\\n\u001a\\n</td>\n",
       "      <td></td>\n",
       "      <td>200</td>\n",
       "      <td></td>\n",
       "      <td></td>\n",
       "      <td>54.230.51.79</td>\n",
       "      <td>80</td>\n",
       "      <td>62</td>\n",
       "      <td>False</td>\n",
       "      <td>g-ecx.images-amazon.com</td>\n",
       "      <td>images-amazon.com</td>\n",
       "      <td>Prime Video</td>\n",
       "      <td>3</td>\n",
       "      <td>Movies &amp; TV</td>\n",
       "      <td>TERMINATED</td>\n",
       "      <td>False</td>\n",
       "    </tr>\n",
       "    <tr>\n",
       "      <th>2</th>\n",
       "      <td>13</td>\n",
       "      <td></td>\n",
       "      <td>1556908964.537949000</td>\n",
       "      <td>ï¿½PNG\\r\\n\u001a\\n</td>\n",
       "      <td></td>\n",
       "      <td>200</td>\n",
       "      <td></td>\n",
       "      <td></td>\n",
       "      <td>54.230.51.130</td>\n",
       "      <td>80</td>\n",
       "      <td>96</td>\n",
       "      <td>False</td>\n",
       "      <td>g-ecx.images-amazon.com</td>\n",
       "      <td>images-amazon.com</td>\n",
       "      <td>Prime Video</td>\n",
       "      <td>3</td>\n",
       "      <td>Movies &amp; TV</td>\n",
       "      <td>TERMINATED</td>\n",
       "      <td>False</td>\n",
       "    </tr>\n",
       "    <tr>\n",
       "      <th>3</th>\n",
       "      <td>13</td>\n",
       "      <td></td>\n",
       "      <td>1556909007.422930000</td>\n",
       "      <td>ï¿½PNG\\r\\n\u001a\\n</td>\n",
       "      <td></td>\n",
       "      <td>200</td>\n",
       "      <td></td>\n",
       "      <td></td>\n",
       "      <td>54.230.51.79</td>\n",
       "      <td>80</td>\n",
       "      <td>146</td>\n",
       "      <td>False</td>\n",
       "      <td>g-ecx.images-amazon.com</td>\n",
       "      <td>images-amazon.com</td>\n",
       "      <td>Prime Video</td>\n",
       "      <td>3</td>\n",
       "      <td>Movies &amp; TV</td>\n",
       "      <td>TERMINATED</td>\n",
       "      <td>False</td>\n",
       "    </tr>\n",
       "    <tr>\n",
       "      <th>4</th>\n",
       "      <td>13</td>\n",
       "      <td></td>\n",
       "      <td>1556909041.443910000</td>\n",
       "      <td>ï¿½PNG\\r\\n\u001a\\n</td>\n",
       "      <td></td>\n",
       "      <td>200</td>\n",
       "      <td></td>\n",
       "      <td></td>\n",
       "      <td>54.230.51.130</td>\n",
       "      <td>80</td>\n",
       "      <td>193</td>\n",
       "      <td>False</td>\n",
       "      <td>g-ecx.images-amazon.com</td>\n",
       "      <td>images-amazon.com</td>\n",
       "      <td>Prime Video</td>\n",
       "      <td>3</td>\n",
       "      <td>Movies &amp; TV</td>\n",
       "      <td>TERMINATED</td>\n",
       "      <td>False</td>\n",
       "    </tr>\n",
       "  </tbody>\n",
       "</table>\n",
       "</div>"
      ],
      "text/plain": [
       "  channel_id                                               data  \\\n",
       "0         13  01d27b2269223a2263613036333836342d333432612d34...   \n",
       "1         13                                                      \n",
       "2         13                                                      \n",
       "3         13                                                      \n",
       "4         13                                                      \n",
       "\n",
       "                   time           body location code set_cookie user_agent  \\\n",
       "0  1556908916.319217000                                                      \n",
       "1  1556908947.886910000  ï¿½PNG\\r\\n\u001a\\n           200                         \n",
       "2  1556908964.537949000  ï¿½PNG\\r\\n\u001a\\n           200                         \n",
       "3  1556909007.422930000  ï¿½PNG\\r\\n\u001a\\n           200                         \n",
       "4  1556909041.443910000  ï¿½PNG\\r\\n\u001a\\n           200                         \n",
       "\n",
       "          ip_src tcp_srcport tcp_stream  http2              host_by_dns  \\\n",
       "0  54.175.224.52        2350         17  False                            \n",
       "1   54.230.51.79          80         62  False  g-ecx.images-amazon.com   \n",
       "2  54.230.51.130          80         96  False  g-ecx.images-amazon.com   \n",
       "3   54.230.51.79          80        146  False  g-ecx.images-amazon.com   \n",
       "4  54.230.51.130          80        193  False  g-ecx.images-amazon.com   \n",
       "\n",
       "       domain_by_dns channel_name  rank     category      status  playback  \n",
       "0                     Prime Video     3  Movies & TV  TERMINATED     False  \n",
       "1  images-amazon.com  Prime Video     3  Movies & TV  TERMINATED     False  \n",
       "2  images-amazon.com  Prime Video     3  Movies & TV  TERMINATED     False  \n",
       "3  images-amazon.com  Prime Video     3  Movies & TV  TERMINATED     False  \n",
       "4  images-amazon.com  Prime Video     3  Movies & TV  TERMINATED     False  "
      ]
     },
     "execution_count": 4,
     "metadata": {},
     "output_type": "execute_result"
    }
   ],
   "source": [
    "roku_vanilla.head(5)"
   ]
  },
  {
   "cell_type": "markdown",
   "metadata": {},
   "source": [
    "We can see that all five records come from the same channel (channel_id = 13), which is \"Prime Video\" (channel_name). \n",
    "\n",
    "In all five HTTP response records, the channel queries \"images-amazon.com\" domain (domain_by_dns). "
   ]
  },
  {
   "cell_type": "markdown",
   "metadata": {},
   "source": [
    "# Part 1: analyze/compare popular domains\n",
    "\n",
    "First, let's find out what are the most popular domains.\n",
    "\n",
    "Complete the following \"get_popular_domains\" function that outputs the **top five domains** that are queried by the most number of **distinct channels**. \\\n",
    "For each domain, output the number of distinct channels that queried it. \n",
    "\n",
    "For example: \\\n",
    "domain1, num_distinct_channels \\\n",
    "domain2, num_distinct_channels \\\n",
    "...\n",
    "\n",
    "Hint: use the **domain_by_dns** column to extract domain, and the **channel_id** column to extract distinct/unique channel.\n",
    "\n",
    "Note: there may be empty values in domain_by_dns. You should **exclude** the empty value in your answer.\n",
    "\n",
    "You can either show the output by using \"print\", or output the table format like above."
   ]
  },
  {
   "cell_type": "code",
   "execution_count": 5,
   "metadata": {},
   "outputs": [],
   "source": [
    "def get_popular_domains(df):\n",
    "    df1 = df[df.domain_by_dns != '']\n",
    "    both = df1[['channel_id', 'domain_by_dns']].drop_duplicates()\n",
    "    output = both[['domain_by_dns']].value_counts().reset_index(name='num_distinct_channels')\n",
    "    print(output.head(5))\n",
    "    return\n",
    "\n"
   ]
  },
  {
   "cell_type": "markdown",
   "metadata": {},
   "source": [
    "Now, let's run it and get the top five domains from each file (roku/amazon + vanilla/limitads)"
   ]
  },
  {
   "cell_type": "code",
   "execution_count": 6,
   "metadata": {},
   "outputs": [
    {
     "name": "stdout",
     "output_type": "stream",
     "text": [
      "           domain_by_dns  num_distinct_channels\n",
      "0               roku.com                     29\n",
      "1               ifood.tv                     14\n",
      "2  scorecardresearch.com                     13\n",
      "3             demdex.net                     11\n",
      "4        doubleclick.net                     10\n"
     ]
    }
   ],
   "source": [
    "# Roku vanilla total 77\n",
    "get_popular_domains(roku_vanilla)"
   ]
  },
  {
   "cell_type": "code",
   "execution_count": 7,
   "metadata": {},
   "outputs": [
    {
     "name": "stdout",
     "output_type": "stream",
     "text": [
      "           domain_by_dns  num_distinct_channels\n",
      "0               roku.com                     26\n",
      "1  scorecardresearch.com                     15\n",
      "2               ifood.tv                     14\n",
      "3             demdex.net                     12\n",
      "4                 1rx.io                      8\n"
     ]
    }
   ],
   "source": [
    "# Roku w/ limit ads option total 75\n",
    "get_popular_domains(roku_limitad)"
   ]
  },
  {
   "cell_type": "code",
   "execution_count": 8,
   "metadata": {},
   "outputs": [
    {
     "name": "stdout",
     "output_type": "stream",
     "text": [
      "         domain_by_dns  num_distinct_channels\n",
      "0           amazon.com                     81\n",
      "1      crashlytics.com                     31\n",
      "2       amazon-dss.com                     30\n",
      "3  amazon-adsystem.com                     27\n",
      "4      doubleclick.net                     21\n"
     ]
    }
   ],
   "source": [
    "# Amazon vanilla total 190\n",
    "get_popular_domains(amzn_vanilla)"
   ]
  },
  {
   "cell_type": "code",
   "execution_count": 9,
   "metadata": {
    "scrolled": true
   },
   "outputs": [
    {
     "name": "stdout",
     "output_type": "stream",
     "text": [
      "           domain_by_dns  num_distinct_channels\n",
      "0             amazon.com                     76\n",
      "1        crashlytics.com                     31\n",
      "2         amazon-dss.com                     20\n",
      "3    app-measurement.com                     19\n",
      "4  scorecardresearch.com                     18\n"
     ]
    }
   ],
   "source": [
    "# Amazon w/ limit ads option total 164\n",
    "get_popular_domains(amzn_limitad)"
   ]
  },
  {
   "cell_type": "markdown",
   "metadata": {},
   "source": [
    "## Question 1: Describe what you observe from the above results. Do you think the \"limit ads\" option reduce the number of channels that queried domains on Roku and Amazon FireTV? Why or why not?\n",
    "\n",
    "Your answer here: For both Roku and Amazon FireTV, the \"limit ads\" option DOES reduce the total number of channels that queried domains. However, the reduction is not evenly distributed, and there may be some domains that are queried by more channels with the \"limit ads\" option than without it, such as \"doubleclick.net\" on Roku. Overall, there are some domains that are queried by more channels with the \"limit ads\" option, but generally, limiting ads reduces the number of channels that queried the domain."
   ]
  },
  {
   "cell_type": "markdown",
   "metadata": {},
   "source": [
    "# Part 2: analyze/compare channels\n",
    "\n",
    "Now, let's take a look at the channels. We want to find out which channels queried the most number of distinct domains. \n",
    "\n",
    "Complete the following \"get_channels_with_most_domains\" function that outputs the **top five channel names** that queried the most number of **distinct domains**. \\\n",
    "For each channel name, output its channel category and the number of distinct domains it queried.\n",
    "\n",
    "For example: \\\n",
    "channel1, category, num_distinct_domains \\\n",
    "channel2, category, num_distinct_domains \\\n",
    "...\n",
    "\n",
    "Hint: use the **channel_name** column to extract channel name, and the **category** column to extract channel category.\n",
    "\n",
    "You can either show the output by using \"print\", or output the table format."
   ]
  },
  {
   "cell_type": "code",
   "execution_count": 10,
   "metadata": {},
   "outputs": [],
   "source": [
    "def get_channels_with_most_domains(df, head=5):\n",
    "    df1 = df[df.domain_by_dns != '']\n",
    "    both = df1[['channel_name', 'category', 'domain_by_dns']].drop_duplicates()\n",
    "    #print(both)\n",
    "    output = both[['channel_name', 'category']].value_counts().reset_index(name='num_distinct_domains')\n",
    "    print(output.head(5))\n",
    "    return"
   ]
  },
  {
   "cell_type": "markdown",
   "metadata": {},
   "source": [
    "Now, let's run it and get the top five channels from each file (roku/amazon + vanilla/limitads)"
   ]
  },
  {
   "cell_type": "code",
   "execution_count": 11,
   "metadata": {},
   "outputs": [
    {
     "name": "stdout",
     "output_type": "stream",
     "text": [
      "       channel_name          category  num_distinct_domains\n",
      "0   CopyKat Recipes              Food                    17\n",
      "1          NBC News    News & Weather                    15\n",
      "2             CNNgo    News & Weather                     9\n",
      "3  Models In Motion  Special Interest                     9\n",
      "4       Nickelodeon     Kids & Family                     8\n"
     ]
    }
   ],
   "source": [
    "# Roku vanilla total 58\n",
    "get_channels_with_most_domains(roku_vanilla)"
   ]
  },
  {
   "cell_type": "code",
   "execution_count": 12,
   "metadata": {},
   "outputs": [
    {
     "name": "stdout",
     "output_type": "stream",
     "text": [
      "  channel_name          category  num_distinct_domains\n",
      "0  Sexy Shorts  Special Interest                    22\n",
      "1     NBC News    News & Weather                    16\n",
      "2   NBC Sports            Sports                    10\n",
      "3          NBA            Sports                     9\n",
      "4  Nickelodeon     Kids & Family                     8\n"
     ]
    }
   ],
   "source": [
    "# Roku w/ limit ads option total 65\n",
    "get_channels_with_most_domains(roku_limitad)"
   ]
  },
  {
   "cell_type": "code",
   "execution_count": 13,
   "metadata": {},
   "outputs": [
    {
     "name": "stdout",
     "output_type": "stream",
     "text": [
      "                                        channel_name     category  \\\n",
      "0  CuriosityStream - Watch Documentaries Online (TV)      Medical   \n",
      "1                                  The CW on Fire TV  Movies & TV   \n",
      "2                                 CBS News - Fire TV         News   \n",
      "3                                           NBC News         News   \n",
      "4                                                NBC  Movies & TV   \n",
      "\n",
      "   num_distinct_domains  \n",
      "0                    40  \n",
      "1                    24  \n",
      "2                    23  \n",
      "3                    21  \n",
      "4                    20  \n"
     ]
    }
   ],
   "source": [
    "# Amazon vanilla total 128\n",
    "get_channels_with_most_domains(amzn_vanilla)"
   ]
  },
  {
   "cell_type": "code",
   "execution_count": 14,
   "metadata": {},
   "outputs": [
    {
     "name": "stdout",
     "output_type": "stream",
     "text": [
      "                                        channel_name     category  \\\n",
      "0  CuriosityStream - Watch Documentaries Online (TV)      Medical   \n",
      "1                                                NBC  Movies & TV   \n",
      "2                                  The CW on Fire TV  Movies & TV   \n",
      "3                                 CBS News - Fire TV         News   \n",
      "4                 CBS Sports Stream &amp; Watch Live       Sports   \n",
      "\n",
      "   num_distinct_domains  \n",
      "0                    40  \n",
      "1                    27  \n",
      "2                    20  \n",
      "3                    19  \n",
      "4                    18  \n"
     ]
    }
   ],
   "source": [
    "# Amazon w/ limit ads option total 124\n",
    "get_channels_with_most_domains(amzn_limitad)"
   ]
  },
  {
   "cell_type": "markdown",
   "metadata": {},
   "source": [
    "## Question 2: Describe what you observe from the above results. Do you think the \"limit ads\" option reduce the number of domains queried by channels on Roku and Amazon FireTV? Why or why not?\n",
    "\n",
    "Your answer here: For Roku, the \"limit ads\" option actually increases the total number of domains queried by the top 5 channels, while for Amazon FireTV, the total number of domains queried decreases slightly. For both, there are several channels that query more domains with the \"limit ads\" option than without it. This likely means that, while the total number of ads are reduced, some channels get more ads with the \"limit ads\" option. Its possible that this is because Roku and Amazon FireTV have to make up for profits lost by reducing ads."
   ]
  },
  {
   "cell_type": "markdown",
   "metadata": {},
   "source": [
    "# Part 3: analyze \"data leak\"\n",
    "\n",
    "Finally, let's take a deeper look into which data is being collected by the channels. We call it \"data leak\". Every channel may collect different information about the user, e.g., device information and geolocation.\n",
    "\n",
    "Here, we need to use new pickle files with the \"data leak\" information. Let's load the data. "
   ]
  },
  {
   "cell_type": "code",
   "execution_count": 15,
   "metadata": {},
   "outputs": [],
   "source": [
    "# Roku data\n",
    "roku_limitad_leak = pd.read_pickle(\"roku-data-limitad_leak.pickle\")\n",
    "roku_vanilla_leak = pd.read_pickle(\"roku-data_leak.pickle\")\n",
    "\n",
    "# Amazon data\n",
    "amzn_limitad_leak = pd.read_pickle(\"amazon-data-limitad_leak.pickle\")\n",
    "amzn_vanilla_leak = pd.read_pickle(\"amazon-data_leak.pickle\")"
   ]
  },
  {
   "cell_type": "markdown",
   "metadata": {},
   "source": [
    "Same as before, the data is being stored in dataframe format. \n",
    "\n",
    "We will focus on the **id_type** column here. This column indicates *what type of data is being collected and sent by the channel*. \\\n",
    "Let's see what's in the **id_type**."
   ]
  },
  {
   "cell_type": "code",
   "execution_count": 16,
   "metadata": {},
   "outputs": [
    {
     "data": {
      "text/plain": [
       "['Channel name', 'AD ID', 'Build Number', 'Serial No', 'Zip', 'City']"
      ]
     },
     "execution_count": 16,
     "metadata": {},
     "output_type": "execute_result"
    }
   ],
   "source": [
    "list(roku_vanilla_leak.id_type.unique())"
   ]
  },
  {
   "cell_type": "markdown",
   "metadata": {},
   "source": [
    "Note that the **id_type** is a bit different in Amazon."
   ]
  },
  {
   "cell_type": "code",
   "execution_count": 17,
   "metadata": {},
   "outputs": [
    {
     "data": {
      "text/plain": [
       "['Android ID',\n",
       " 'Channel name',\n",
       " 'AD ID',\n",
       " 'Serial No',\n",
       " 'Device name',\n",
       " 'Zip',\n",
       " 'MAC',\n",
       " 'City']"
      ]
     },
     "execution_count": 17,
     "metadata": {},
     "output_type": "execute_result"
    }
   ],
   "source": [
    "list(amzn_vanilla_leak.id_type.unique())"
   ]
  },
  {
   "cell_type": "markdown",
   "metadata": {},
   "source": [
    "Now, for each of the **id_type** above, we want to know: \n",
    "* How many times it's leaked (i.e., the number of records that have this id_type)\n",
    "* How many channels leak this data (i.e., the number of distinct channels that have this id_type)\n",
    "\n",
    "Complete the following \"analyze_data_leak\" function that does the above. It should output the number of leaks and the number of channels for each **id_type**.\n",
    "\n",
    "For example: \\\n",
    "id_type_1, num_leaks, num_channels \\\n",
    "id_type_2, num_leaks, num_channels \\\n",
    "...\n",
    "\n",
    "You can either show the output by using \"print\", or output the table format."
   ]
  },
  {
   "cell_type": "code",
   "execution_count": 18,
   "metadata": {},
   "outputs": [],
   "source": [
    "def analyze_data_leak(leak_df):\n",
    "    df1 = leak_df[leak_df.id_type != '']\n",
    "    print(df1[['id_type']].value_counts().reset_index(name='num_leaks'))\n",
    "    channels = df1[['id_type', 'channel_name']].drop_duplicates()\n",
    "    print(channels[['id_type']].value_counts().reset_index(name='num_channels'))\n",
    "    return"
   ]
  },
  {
   "cell_type": "markdown",
   "metadata": {},
   "source": [
    "Now, let's run it and find out the data leaks from each file (roku/amazon + vanilla/limitads)"
   ]
  },
  {
   "cell_type": "code",
   "execution_count": 19,
   "metadata": {},
   "outputs": [
    {
     "name": "stdout",
     "output_type": "stream",
     "text": [
      "        id_type  num_leaks\n",
      "0  Channel name       1747\n",
      "1         AD ID        655\n",
      "2  Build Number        450\n",
      "3     Serial No        246\n",
      "4           Zip          8\n",
      "5          City          2\n",
      "        id_type  num_channels\n",
      "0  Build Number            34\n",
      "1         AD ID            30\n",
      "2  Channel name            25\n",
      "3     Serial No            14\n",
      "4          City             2\n",
      "5           Zip             1\n"
     ]
    }
   ],
   "source": [
    "# Roku vanilla total 3108\n",
    "analyze_data_leak(roku_vanilla_leak)"
   ]
  },
  {
   "cell_type": "code",
   "execution_count": 20,
   "metadata": {},
   "outputs": [
    {
     "name": "stdout",
     "output_type": "stream",
     "text": [
      "        id_type  num_leaks\n",
      "0  Channel name       1555\n",
      "1  Build Number        394\n",
      "2     Serial No        213\n",
      "3           Zip         22\n",
      "4          City         16\n",
      "5         State          7\n",
      "        id_type  num_channels\n",
      "0  Build Number            34\n",
      "1  Channel name            26\n",
      "2     Serial No            13\n",
      "3          City             3\n",
      "4           Zip             2\n",
      "5         State             1\n"
     ]
    }
   ],
   "source": [
    "# Roku w/ limit ads option total 2207\n",
    "analyze_data_leak(roku_limitad_leak)"
   ]
  },
  {
   "cell_type": "code",
   "execution_count": 21,
   "metadata": {},
   "outputs": [
    {
     "name": "stdout",
     "output_type": "stream",
     "text": [
      "        id_type  num_leaks\n",
      "0  Channel name       1437\n",
      "1    Android ID        923\n",
      "2         AD ID        269\n",
      "3     Serial No        201\n",
      "4           MAC         26\n",
      "5           Zip         21\n",
      "6          City         12\n",
      "7   Device name          8\n",
      "        id_type  num_channels\n",
      "0    Android ID            69\n",
      "1         AD ID            35\n",
      "2     Serial No            33\n",
      "3  Channel name            20\n",
      "4   Device name             4\n",
      "5           MAC             3\n",
      "6           Zip             2\n",
      "7          City             1\n"
     ]
    }
   ],
   "source": [
    "# Amazon vanilla total 2897\n",
    "analyze_data_leak(amzn_vanilla_leak)"
   ]
  },
  {
   "cell_type": "code",
   "execution_count": 22,
   "metadata": {},
   "outputs": [
    {
     "name": "stdout",
     "output_type": "stream",
     "text": [
      "        id_type  num_leaks\n",
      "0  Channel name       1419\n",
      "1    Android ID       1000\n",
      "2         AD ID        218\n",
      "3     Serial No        161\n",
      "4           MAC         30\n",
      "5           Zip         28\n",
      "6          City         24\n",
      "7   Device name          5\n",
      "        id_type  num_channels\n",
      "0    Android ID            65\n",
      "1     Serial No            24\n",
      "2  Channel name            20\n",
      "3         AD ID            16\n",
      "4           MAC             3\n",
      "5   Device name             2\n",
      "6           Zip             2\n",
      "7          City             1\n"
     ]
    }
   ],
   "source": [
    "# Amazon w/ limit ads option total 2885\n",
    "analyze_data_leak(amzn_limitad_leak)"
   ]
  },
  {
   "cell_type": "markdown",
   "metadata": {},
   "source": [
    "## Question 3: Describe what you observe from the above results. Does the \"limit ads\" option reduce or eliminate \"data leaks\"? If so, what's the degree of reduction? Please discuss Roku and Amazon FireTV separately. \n",
    "\n",
    "Your answer here: From the results, it appears that limiting ads on Roku significantly reduces the number of data leaks, specifically by about one third. The number of data leaks from AD ID is particularly reduced. This makes sense because limiting ads likely reduces how many IDs could potentially be leaked. \n",
    "\n",
    "On the other hand, limiting ads on Amazon FireTV only reduces the number of leaks by 12, which is a tiny fraction of the original number of leaks. This is interesting on contrast with how much limiting ads on Roku drastically reduced the totaly number of leaks."
   ]
  },
  {
   "cell_type": "markdown",
   "metadata": {},
   "source": [
    "# Part 4: Infer User Behavior\n",
    "Basic idea: the user access different channels at different timestamp. Assume that we could infer the channel type from the channel name such as news related channel, we could infer the users'behaviors such as what time is the user reading news?"
   ]
  },
  {
   "cell_type": "markdown",
   "metadata": {},
   "source": [
    "For example, we define that a channel is news related channel if its channel name contains string \"news\"."
   ]
  },
  {
   "cell_type": "code",
   "execution_count": 23,
   "metadata": {},
   "outputs": [
    {
     "data": {
      "text/plain": [
       "array(['Fox News', 'NBC News', 'CBS News - Fire TV', 'ABC News',\n",
       "       'BBC News for Fire TV', 'One America News Network',\n",
       "       'Newsy - Fire TV'], dtype=object)"
      ]
     },
     "execution_count": 23,
     "metadata": {},
     "output_type": "execute_result"
    }
   ],
   "source": [
    "amzn_vanilla.loc[amzn_vanilla['channel_name'].str.contains(\"news\", case = False) == True]['channel_name'].unique()"
   ]
  },
  {
   "cell_type": "markdown",
   "metadata": {},
   "source": [
    "Complete the following \"user_behavior_infer\" function that outputs the top ten time minutes that users access the specific type of channels with most times. The related channels are defined by their channel name containing some specific pattern string (**case insensitive**). Just like the \"news\" related channel example above. when calculating the counts of \"news\" related channels, it should include all of the requests from channels listed above.\n",
    "\n",
    "The output should like this: <br>\n",
    "time_stamp_minute1, access_counts1 <br>\n",
    "time_stamp_minute2, access_counts2  <br>\n",
    "\n",
    "For example, \"2019-05-11 11:02:00, 100\". <br>\n",
    "You can either use \"print\" to display the above output, or use the table format instead.\n",
    "\n",
    "**Notes: the value in time column of the dataset is based on unit of \"second\", you should change its format to standard time format like \"year-month-day hour: minute: second\" first before calcuation. The output format for the time_stamp_minutes should also be based on the standard time format.**  \n",
    "\n",
    "Hint: you can use the **to_datetime** function in pandas to do this."
   ]
  },
  {
   "cell_type": "code",
   "execution_count": 24,
   "metadata": {},
   "outputs": [],
   "source": [
    "def user_behavior_infer(pattern, http_data):\n",
    "    http_data['time'] = pd.to_datetime(http_data['time'], unit='s').round('min')\n",
    "    df = http_data[http_data['channel_name'].str.contains(\"news\", case = False) == True]\n",
    "    df1 = df[['time']].value_counts().reset_index(name='access_counts')\n",
    "    print(df1.head(10))\n",
    "    \n",
    "    x = df1.time\n",
    "    y = df1.access_counts\n",
    "    plt.scatter(x, y)\n",
    "    \n",
    "    return"
   ]
  },
  {
   "cell_type": "code",
   "execution_count": 25,
   "metadata": {},
   "outputs": [
    {
     "name": "stdout",
     "output_type": "stream",
     "text": [
      "                 time  access_counts\n",
      "0 2019-05-11 07:12:00            157\n",
      "1 2019-05-11 07:11:00            132\n",
      "2 2019-05-11 01:40:00            126\n",
      "3 2019-05-11 05:59:00             89\n",
      "4 2019-05-11 07:10:00             89\n",
      "5 2019-05-11 01:29:00             61\n",
      "6 2019-05-11 05:56:00             57\n",
      "7 2019-05-11 01:41:00             54\n",
      "8 2019-05-11 08:35:00             34\n",
      "9 2019-05-11 05:55:00             30\n"
     ]
    },
    {
     "data": {
      "image/png": "[encoded data removed]",
      "text/plain": [
       "<Figure size 640x480 with 1 Axes>"
      ]
     },
     "metadata": {},
     "output_type": "display_data"
    }
   ],
   "source": [
    "# Amazon vanilla\n",
    "user_behavior_infer(\"news\", amzn_vanilla)"
   ]
  },
  {
   "cell_type": "code",
   "execution_count": 26,
   "metadata": {},
   "outputs": [
    {
     "name": "stdout",
     "output_type": "stream",
     "text": [
      "                 time  access_counts\n",
      "0 2019-05-03 18:32:00             77\n",
      "1 2019-05-03 18:39:00             63\n",
      "2 2019-05-03 21:11:00             55\n",
      "3 2019-05-03 18:31:00             52\n",
      "4 2019-05-03 20:34:00             37\n",
      "5 2019-05-03 19:53:00             36\n",
      "6 2019-05-03 19:52:00             27\n",
      "7 2019-05-03 20:33:00             12\n",
      "8 2019-05-03 20:32:00             11\n",
      "9 2019-05-03 18:34:00             10\n"
     ]
    },
    {
     "data": {
      "image/png": "[encoded data removed]",
      "text/plain": [
       "<Figure size 640x480 with 1 Axes>"
      ]
     },
     "metadata": {},
     "output_type": "display_data"
    }
   ],
   "source": [
    "# Roku vanilla\n",
    "user_behavior_infer(\"news\", roku_vanilla)"
   ]
  },
  {
   "cell_type": "markdown",
   "metadata": {},
   "source": [
    "**Besides the top ten minutes with most access counts, please plot the traffic figure describing the access counts at different timestamp based on per minute.The x-axis of the figure is timestamp based on per minitue. The y-axis of the figure represents the access counts in one minute.**\n",
    "\n",
    "Note: Since you have already retrieved the timestamps in the \"user_behavior_infer\" function before sorting for the top ten, you can directly add/implement code to plot the figure in the \"user_behavior_infer\" function. If you do so, when the function is called, it will not only output the top ten timestamp with largest amount of traffic, but also plot the figure of the traffic pattern. Alternatively, you can implement/call the plot function separately in the space below."
   ]
  },
  {
   "cell_type": "code",
   "execution_count": null,
   "metadata": {},
   "outputs": [],
   "source": []
  },
  {
   "cell_type": "markdown",
   "metadata": {},
   "source": [
    "## Question 4: Describe what you observe from the above results. Could you infer some behavior or life style information about the user? Please discuss Amazon and Roku TV seperately.\n",
    "\n",
    "You answer here: For Roku, it looks like the majority of traffic is from 6am to 8am, with the all time peak just after 7am. However, the second largest peak in traffic occurs between 1am and 2am, when late night shows air. Based on this information, Roku TV users are either night owls who watch late night television, or early risers who watch the morning news.\n",
    "\n",
    "For Amazon FireTV, there is a peak in traffic at around 6:30pm, as well as steady traffic from just before 8pm to 9pm. There is also a slight increase in traffic after 9pm. From this information, a large amount of Amazon FireTV users watch TV around dinner time, and many watch tv at the end of the day before bed. "
   ]
  }
 ],
 "metadata": {
  "kernelspec": {
   "display_name": "Python 3 (ipykernel)",
   "language": "python",
   "name": "python3"
  },
  "language_info": {
   "codemirror_mode": {
    "name": "ipython",
    "version": 3
   },
   "file_extension": ".py",
   "mimetype": "text/x-python",
   "name": "python",
   "nbconvert_exporter": "python",
   "pygments_lexer": "ipython3",
   "version": "3.10.4"
  }
 },
 "nbformat": 4,
 "nbformat_minor": 2
}
